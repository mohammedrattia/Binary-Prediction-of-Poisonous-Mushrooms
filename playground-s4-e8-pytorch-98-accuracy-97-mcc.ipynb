{
 "cells": [
  {
   "cell_type": "markdown",
   "id": "3d1bd039",
   "metadata": {
    "papermill": {
     "duration": 0.010901,
     "end_time": "2024-08-29T10:11:22.830071",
     "exception": false,
     "start_time": "2024-08-29T10:11:22.819170",
     "status": "completed"
    },
    "tags": []
   },
   "source": [
    "## Please upvote if you liked my work :)"
   ]
  },
  {
   "cell_type": "markdown",
   "id": "3e6effe8",
   "metadata": {
    "papermill": {
     "duration": 0.009708,
     "end_time": "2024-08-29T10:11:22.849988",
     "exception": false,
     "start_time": "2024-08-29T10:11:22.840280",
     "status": "completed"
    },
    "tags": []
   },
   "source": [
    "# Importing Libraries and Data"
   ]
  },
  {
   "cell_type": "code",
   "execution_count": 1,
   "id": "c057d7e0",
   "metadata": {
    "_cell_guid": "b1076dfc-b9ad-4769-8c92-a6c4dae69d19",
    "_uuid": "8f2839f25d086af736a60e9eeb907d3b93b6e0e5",
    "execution": {
     "iopub.execute_input": "2024-08-29T10:11:22.870394Z",
     "iopub.status.busy": "2024-08-29T10:11:22.870083Z",
     "iopub.status.idle": "2024-08-29T10:11:32.219361Z",
     "shell.execute_reply": "2024-08-29T10:11:32.218324Z"
    },
    "papermill": {
     "duration": 9.362154,
     "end_time": "2024-08-29T10:11:32.221762",
     "exception": false,
     "start_time": "2024-08-29T10:11:22.859608",
     "status": "completed"
    },
    "tags": []
   },
   "outputs": [
    {
     "name": "stdout",
     "output_type": "stream",
     "text": [
      "/kaggle/input/playground-series-s4e8/sample_submission.csv\n",
      "/kaggle/input/playground-series-s4e8/train.csv\n",
      "/kaggle/input/playground-series-s4e8/test.csv\n"
     ]
    }
   ],
   "source": [
    "# data processing\n",
    "import numpy as np\n",
    "import pandas as pd\n",
    "\n",
    "# model building\n",
    "import sklearn as sk\n",
    "from sklearn.model_selection import train_test_split, StratifiedKFold\n",
    "from sklearn.metrics import accuracy_score, matthews_corrcoef\n",
    "\n",
    "# pytorch\n",
    "import copy\n",
    "import torch\n",
    "import torch.nn as nn\n",
    "import torch.optim as optim\n",
    "import tqdm\n",
    "\n",
    "# feature selection\n",
    "from sklearn.preprocessing import LabelEncoder\n",
    "from sklearn.preprocessing import OrdinalEncoder\n",
    "from sklearn.feature_selection import SelectKBest\n",
    "from sklearn.feature_selection import chi2\n",
    "from matplotlib import pyplot\n",
    "\n",
    "import os\n",
    "for dirname, _, filenames in os.walk('/kaggle/input'):\n",
    "    for filename in filenames:\n",
    "        print(os.path.join(dirname, filename))"
   ]
  },
  {
   "cell_type": "markdown",
   "id": "ce3c782d",
   "metadata": {
    "papermill": {
     "duration": 0.00962,
     "end_time": "2024-08-29T10:11:32.241738",
     "exception": false,
     "start_time": "2024-08-29T10:11:32.232118",
     "status": "completed"
    },
    "tags": []
   },
   "source": [
    "## Importing train and test data"
   ]
  },
  {
   "cell_type": "code",
   "execution_count": 2,
   "id": "d5909bfe",
   "metadata": {
    "execution": {
     "iopub.execute_input": "2024-08-29T10:11:32.262607Z",
     "iopub.status.busy": "2024-08-29T10:11:32.262172Z",
     "iopub.status.idle": "2024-08-29T10:11:41.755413Z",
     "shell.execute_reply": "2024-08-29T10:11:41.754499Z"
    },
    "papermill": {
     "duration": 9.506118,
     "end_time": "2024-08-29T10:11:41.757639",
     "exception": false,
     "start_time": "2024-08-29T10:11:32.251521",
     "status": "completed"
    },
    "tags": []
   },
   "outputs": [
    {
     "data": {
      "text/html": [
       "<div>\n",
       "<style scoped>\n",
       "    .dataframe tbody tr th:only-of-type {\n",
       "        vertical-align: middle;\n",
       "    }\n",
       "\n",
       "    .dataframe tbody tr th {\n",
       "        vertical-align: top;\n",
       "    }\n",
       "\n",
       "    .dataframe thead th {\n",
       "        text-align: right;\n",
       "    }\n",
       "</style>\n",
       "<table border=\"1\" class=\"dataframe\">\n",
       "  <thead>\n",
       "    <tr style=\"text-align: right;\">\n",
       "      <th></th>\n",
       "      <th>id</th>\n",
       "      <th>class</th>\n",
       "      <th>cap-diameter</th>\n",
       "      <th>cap-shape</th>\n",
       "      <th>cap-surface</th>\n",
       "      <th>cap-color</th>\n",
       "      <th>does-bruise-or-bleed</th>\n",
       "      <th>gill-attachment</th>\n",
       "      <th>gill-spacing</th>\n",
       "      <th>gill-color</th>\n",
       "      <th>...</th>\n",
       "      <th>stem-root</th>\n",
       "      <th>stem-surface</th>\n",
       "      <th>stem-color</th>\n",
       "      <th>veil-type</th>\n",
       "      <th>veil-color</th>\n",
       "      <th>has-ring</th>\n",
       "      <th>ring-type</th>\n",
       "      <th>spore-print-color</th>\n",
       "      <th>habitat</th>\n",
       "      <th>season</th>\n",
       "    </tr>\n",
       "  </thead>\n",
       "  <tbody>\n",
       "    <tr>\n",
       "      <th>0</th>\n",
       "      <td>0</td>\n",
       "      <td>e</td>\n",
       "      <td>8.80</td>\n",
       "      <td>f</td>\n",
       "      <td>s</td>\n",
       "      <td>u</td>\n",
       "      <td>f</td>\n",
       "      <td>a</td>\n",
       "      <td>c</td>\n",
       "      <td>w</td>\n",
       "      <td>...</td>\n",
       "      <td>NaN</td>\n",
       "      <td>NaN</td>\n",
       "      <td>w</td>\n",
       "      <td>NaN</td>\n",
       "      <td>NaN</td>\n",
       "      <td>f</td>\n",
       "      <td>f</td>\n",
       "      <td>NaN</td>\n",
       "      <td>d</td>\n",
       "      <td>a</td>\n",
       "    </tr>\n",
       "    <tr>\n",
       "      <th>1</th>\n",
       "      <td>1</td>\n",
       "      <td>p</td>\n",
       "      <td>4.51</td>\n",
       "      <td>x</td>\n",
       "      <td>h</td>\n",
       "      <td>o</td>\n",
       "      <td>f</td>\n",
       "      <td>a</td>\n",
       "      <td>c</td>\n",
       "      <td>n</td>\n",
       "      <td>...</td>\n",
       "      <td>NaN</td>\n",
       "      <td>y</td>\n",
       "      <td>o</td>\n",
       "      <td>NaN</td>\n",
       "      <td>NaN</td>\n",
       "      <td>t</td>\n",
       "      <td>z</td>\n",
       "      <td>NaN</td>\n",
       "      <td>d</td>\n",
       "      <td>w</td>\n",
       "    </tr>\n",
       "  </tbody>\n",
       "</table>\n",
       "<p>2 rows × 22 columns</p>\n",
       "</div>"
      ],
      "text/plain": [
       "   id class  cap-diameter cap-shape cap-surface cap-color  \\\n",
       "0   0     e          8.80         f           s         u   \n",
       "1   1     p          4.51         x           h         o   \n",
       "\n",
       "  does-bruise-or-bleed gill-attachment gill-spacing gill-color  ...  \\\n",
       "0                    f               a            c          w  ...   \n",
       "1                    f               a            c          n  ...   \n",
       "\n",
       "   stem-root  stem-surface stem-color veil-type veil-color has-ring ring-type  \\\n",
       "0        NaN           NaN          w       NaN        NaN        f         f   \n",
       "1        NaN             y          o       NaN        NaN        t         z   \n",
       "\n",
       "  spore-print-color habitat season  \n",
       "0               NaN       d      a  \n",
       "1               NaN       d      w  \n",
       "\n",
       "[2 rows x 22 columns]"
      ]
     },
     "execution_count": 2,
     "metadata": {},
     "output_type": "execute_result"
    }
   ],
   "source": [
    "# importing training data\n",
    "train = pd.read_csv(\"/kaggle/input/playground-series-s4e8/train.csv\")\n",
    "train.head(2)"
   ]
  },
  {
   "cell_type": "code",
   "execution_count": 3,
   "id": "a7bacb79",
   "metadata": {
    "execution": {
     "iopub.execute_input": "2024-08-29T10:11:41.779599Z",
     "iopub.status.busy": "2024-08-29T10:11:41.779291Z",
     "iopub.status.idle": "2024-08-29T10:11:47.656064Z",
     "shell.execute_reply": "2024-08-29T10:11:47.655072Z"
    },
    "papermill": {
     "duration": 5.889909,
     "end_time": "2024-08-29T10:11:47.658213",
     "exception": false,
     "start_time": "2024-08-29T10:11:41.768304",
     "status": "completed"
    },
    "tags": []
   },
   "outputs": [
    {
     "data": {
      "text/html": [
       "<div>\n",
       "<style scoped>\n",
       "    .dataframe tbody tr th:only-of-type {\n",
       "        vertical-align: middle;\n",
       "    }\n",
       "\n",
       "    .dataframe tbody tr th {\n",
       "        vertical-align: top;\n",
       "    }\n",
       "\n",
       "    .dataframe thead th {\n",
       "        text-align: right;\n",
       "    }\n",
       "</style>\n",
       "<table border=\"1\" class=\"dataframe\">\n",
       "  <thead>\n",
       "    <tr style=\"text-align: right;\">\n",
       "      <th></th>\n",
       "      <th>id</th>\n",
       "      <th>cap-diameter</th>\n",
       "      <th>cap-shape</th>\n",
       "      <th>cap-surface</th>\n",
       "      <th>cap-color</th>\n",
       "      <th>does-bruise-or-bleed</th>\n",
       "      <th>gill-attachment</th>\n",
       "      <th>gill-spacing</th>\n",
       "      <th>gill-color</th>\n",
       "      <th>stem-height</th>\n",
       "      <th>...</th>\n",
       "      <th>stem-root</th>\n",
       "      <th>stem-surface</th>\n",
       "      <th>stem-color</th>\n",
       "      <th>veil-type</th>\n",
       "      <th>veil-color</th>\n",
       "      <th>has-ring</th>\n",
       "      <th>ring-type</th>\n",
       "      <th>spore-print-color</th>\n",
       "      <th>habitat</th>\n",
       "      <th>season</th>\n",
       "    </tr>\n",
       "  </thead>\n",
       "  <tbody>\n",
       "    <tr>\n",
       "      <th>0</th>\n",
       "      <td>3116945</td>\n",
       "      <td>8.64</td>\n",
       "      <td>x</td>\n",
       "      <td>NaN</td>\n",
       "      <td>n</td>\n",
       "      <td>t</td>\n",
       "      <td>NaN</td>\n",
       "      <td>NaN</td>\n",
       "      <td>w</td>\n",
       "      <td>11.13</td>\n",
       "      <td>...</td>\n",
       "      <td>b</td>\n",
       "      <td>NaN</td>\n",
       "      <td>w</td>\n",
       "      <td>u</td>\n",
       "      <td>w</td>\n",
       "      <td>t</td>\n",
       "      <td>g</td>\n",
       "      <td>NaN</td>\n",
       "      <td>d</td>\n",
       "      <td>a</td>\n",
       "    </tr>\n",
       "    <tr>\n",
       "      <th>1</th>\n",
       "      <td>3116946</td>\n",
       "      <td>6.90</td>\n",
       "      <td>o</td>\n",
       "      <td>t</td>\n",
       "      <td>o</td>\n",
       "      <td>f</td>\n",
       "      <td>NaN</td>\n",
       "      <td>c</td>\n",
       "      <td>y</td>\n",
       "      <td>1.27</td>\n",
       "      <td>...</td>\n",
       "      <td>NaN</td>\n",
       "      <td>NaN</td>\n",
       "      <td>n</td>\n",
       "      <td>NaN</td>\n",
       "      <td>NaN</td>\n",
       "      <td>f</td>\n",
       "      <td>f</td>\n",
       "      <td>NaN</td>\n",
       "      <td>d</td>\n",
       "      <td>a</td>\n",
       "    </tr>\n",
       "  </tbody>\n",
       "</table>\n",
       "<p>2 rows × 21 columns</p>\n",
       "</div>"
      ],
      "text/plain": [
       "        id  cap-diameter cap-shape cap-surface cap-color does-bruise-or-bleed  \\\n",
       "0  3116945          8.64         x         NaN         n                    t   \n",
       "1  3116946          6.90         o           t         o                    f   \n",
       "\n",
       "  gill-attachment gill-spacing gill-color  stem-height  ...  stem-root  \\\n",
       "0             NaN          NaN          w        11.13  ...          b   \n",
       "1             NaN            c          y         1.27  ...        NaN   \n",
       "\n",
       "  stem-surface stem-color veil-type veil-color has-ring ring-type  \\\n",
       "0          NaN          w         u          w        t         g   \n",
       "1          NaN          n       NaN        NaN        f         f   \n",
       "\n",
       "  spore-print-color habitat season  \n",
       "0               NaN       d      a  \n",
       "1               NaN       d      a  \n",
       "\n",
       "[2 rows x 21 columns]"
      ]
     },
     "execution_count": 3,
     "metadata": {},
     "output_type": "execute_result"
    }
   ],
   "source": [
    "# importing test data\n",
    "test = pd.read_csv(\"/kaggle/input/playground-series-s4e8/test.csv\")\n",
    "test.head(2)"
   ]
  },
  {
   "cell_type": "markdown",
   "id": "837fa7ff",
   "metadata": {
    "papermill": {
     "duration": 0.010401,
     "end_time": "2024-08-29T10:11:47.679354",
     "exception": false,
     "start_time": "2024-08-29T10:11:47.668953",
     "status": "completed"
    },
    "tags": []
   },
   "source": [
    "# Data Analysis"
   ]
  },
  {
   "cell_type": "markdown",
   "id": "258d95a0",
   "metadata": {
    "papermill": {
     "duration": 0.010254,
     "end_time": "2024-08-29T10:11:47.699833",
     "exception": false,
     "start_time": "2024-08-29T10:11:47.689579",
     "status": "completed"
    },
    "tags": []
   },
   "source": [
    "## Data Information"
   ]
  },
  {
   "cell_type": "code",
   "execution_count": 4,
   "id": "f8e94981",
   "metadata": {
    "execution": {
     "iopub.execute_input": "2024-08-29T10:11:47.722116Z",
     "iopub.status.busy": "2024-08-29T10:11:47.721503Z",
     "iopub.status.idle": "2024-08-29T10:11:51.939067Z",
     "shell.execute_reply": "2024-08-29T10:11:51.938088Z"
    },
    "papermill": {
     "duration": 4.23117,
     "end_time": "2024-08-29T10:11:51.941534",
     "exception": false,
     "start_time": "2024-08-29T10:11:47.710364",
     "status": "completed"
    },
    "tags": []
   },
   "outputs": [
    {
     "name": "stdout",
     "output_type": "stream",
     "text": [
      "<class 'pandas.core.frame.DataFrame'>\n",
      "RangeIndex: 3116945 entries, 0 to 3116944\n",
      "Data columns (total 22 columns):\n",
      " #   Column                Non-Null Count    Dtype  \n",
      "---  ------                --------------    -----  \n",
      " 0   id                    3116945 non-null  int64  \n",
      " 1   class                 3116945 non-null  object \n",
      " 2   cap-diameter          3116941 non-null  float64\n",
      " 3   cap-shape             3116905 non-null  object \n",
      " 4   cap-surface           2445922 non-null  object \n",
      " 5   cap-color             3116933 non-null  object \n",
      " 6   does-bruise-or-bleed  3116937 non-null  object \n",
      " 7   gill-attachment       2593009 non-null  object \n",
      " 8   gill-spacing          1858510 non-null  object \n",
      " 9   gill-color            3116888 non-null  object \n",
      " 10  stem-height           3116945 non-null  float64\n",
      " 11  stem-width            3116945 non-null  float64\n",
      " 12  stem-root             359922 non-null   object \n",
      " 13  stem-surface          1136084 non-null  object \n",
      " 14  stem-color            3116907 non-null  object \n",
      " 15  veil-type             159452 non-null   object \n",
      " 16  veil-color            375998 non-null   object \n",
      " 17  has-ring              3116921 non-null  object \n",
      " 18  ring-type             2988065 non-null  object \n",
      " 19  spore-print-color     267263 non-null   object \n",
      " 20  habitat               3116900 non-null  object \n",
      " 21  season                3116945 non-null  object \n",
      "dtypes: float64(3), int64(1), object(18)\n",
      "memory usage: 523.2+ MB\n"
     ]
    }
   ],
   "source": [
    "train.info(verbose=True, show_counts=True)"
   ]
  },
  {
   "cell_type": "code",
   "execution_count": 5,
   "id": "8e6c9655",
   "metadata": {
    "execution": {
     "iopub.execute_input": "2024-08-29T10:11:51.964471Z",
     "iopub.status.busy": "2024-08-29T10:11:51.963919Z",
     "iopub.status.idle": "2024-08-29T10:11:54.610374Z",
     "shell.execute_reply": "2024-08-29T10:11:54.609580Z"
    },
    "papermill": {
     "duration": 2.660438,
     "end_time": "2024-08-29T10:11:54.612935",
     "exception": false,
     "start_time": "2024-08-29T10:11:51.952497",
     "status": "completed"
    },
    "tags": []
   },
   "outputs": [
    {
     "name": "stdout",
     "output_type": "stream",
     "text": [
      "<class 'pandas.core.frame.DataFrame'>\n",
      "RangeIndex: 2077964 entries, 0 to 2077963\n",
      "Data columns (total 21 columns):\n",
      " #   Column                Non-Null Count    Dtype  \n",
      "---  ------                --------------    -----  \n",
      " 0   id                    2077964 non-null  int64  \n",
      " 1   cap-diameter          2077957 non-null  float64\n",
      " 2   cap-shape             2077933 non-null  object \n",
      " 3   cap-surface           1631060 non-null  object \n",
      " 4   cap-color             2077951 non-null  object \n",
      " 5   does-bruise-or-bleed  2077954 non-null  object \n",
      " 6   gill-attachment       1728143 non-null  object \n",
      " 7   gill-spacing          1238369 non-null  object \n",
      " 8   gill-color            2077915 non-null  object \n",
      " 9   stem-height           2077963 non-null  float64\n",
      " 10  stem-width            2077964 non-null  float64\n",
      " 11  stem-root             239952 non-null   object \n",
      " 12  stem-surface          756476 non-null   object \n",
      " 13  stem-color            2077943 non-null  object \n",
      " 14  veil-type             106419 non-null   object \n",
      " 15  veil-color            251840 non-null   object \n",
      " 16  has-ring              2077945 non-null  object \n",
      " 17  ring-type             1991769 non-null  object \n",
      " 18  spore-print-color     178347 non-null   object \n",
      " 19  habitat               2077939 non-null  object \n",
      " 20  season                2077964 non-null  object \n",
      "dtypes: float64(3), int64(1), object(17)\n",
      "memory usage: 332.9+ MB\n"
     ]
    }
   ],
   "source": [
    "test.info(verbose=True, show_counts=True)"
   ]
  },
  {
   "cell_type": "markdown",
   "id": "9a62b7d4",
   "metadata": {
    "papermill": {
     "duration": 0.010373,
     "end_time": "2024-08-29T10:11:54.634035",
     "exception": false,
     "start_time": "2024-08-29T10:11:54.623662",
     "status": "completed"
    },
    "tags": []
   },
   "source": [
    "## Dropping NaN"
   ]
  },
  {
   "cell_type": "code",
   "execution_count": 6,
   "id": "03310c90",
   "metadata": {
    "execution": {
     "iopub.execute_input": "2024-08-29T10:11:54.656163Z",
     "iopub.status.busy": "2024-08-29T10:11:54.655871Z",
     "iopub.status.idle": "2024-08-29T10:11:55.338853Z",
     "shell.execute_reply": "2024-08-29T10:11:55.337810Z"
    },
    "papermill": {
     "duration": 0.696701,
     "end_time": "2024-08-29T10:11:55.341201",
     "exception": false,
     "start_time": "2024-08-29T10:11:54.644500",
     "status": "completed"
    },
    "tags": []
   },
   "outputs": [],
   "source": [
    "# those columns nearly have no useful information \n",
    "mostly_nan_cols = ['stem-root', 'stem-surface', 'veil-type', 'veil-color', 'spore-print-color']\n",
    "train.drop(mostly_nan_cols, axis=1, inplace=True)\n",
    "test.drop(mostly_nan_cols, axis=1, inplace=True)"
   ]
  },
  {
   "cell_type": "code",
   "execution_count": 7,
   "id": "54ecd737",
   "metadata": {
    "execution": {
     "iopub.execute_input": "2024-08-29T10:11:55.364071Z",
     "iopub.status.busy": "2024-08-29T10:11:55.363505Z",
     "iopub.status.idle": "2024-08-29T10:11:55.367826Z",
     "shell.execute_reply": "2024-08-29T10:11:55.366967Z"
    },
    "papermill": {
     "duration": 0.017734,
     "end_time": "2024-08-29T10:11:55.369792",
     "exception": false,
     "start_time": "2024-08-29T10:11:55.352058",
     "status": "completed"
    },
    "tags": []
   },
   "outputs": [],
   "source": [
    "# I used to drop those columns with many NaN values while using Random forest\n",
    "# Using neural network, I fill them with mode instead\n",
    "many_nan_cols = ['gill-spacing', 'cap-surface', 'gill-attachment', 'ring-type']\n",
    "# train.drop(many_nan_cols, axis=1, inplace=True)\n",
    "# test.drop(many_nan_cols, axis=1, inplace=True)"
   ]
  },
  {
   "cell_type": "code",
   "execution_count": 8,
   "id": "eb7f6c1e",
   "metadata": {
    "execution": {
     "iopub.execute_input": "2024-08-29T10:11:55.392855Z",
     "iopub.status.busy": "2024-08-29T10:11:55.392132Z",
     "iopub.status.idle": "2024-08-29T10:12:01.176579Z",
     "shell.execute_reply": "2024-08-29T10:12:01.175593Z"
    },
    "papermill": {
     "duration": 5.79845,
     "end_time": "2024-08-29T10:12:01.179015",
     "exception": false,
     "start_time": "2024-08-29T10:11:55.380565",
     "status": "completed"
    },
    "tags": []
   },
   "outputs": [
    {
     "data": {
      "text/html": [
       "<div>\n",
       "<style scoped>\n",
       "    .dataframe tbody tr th:only-of-type {\n",
       "        vertical-align: middle;\n",
       "    }\n",
       "\n",
       "    .dataframe tbody tr th {\n",
       "        vertical-align: top;\n",
       "    }\n",
       "\n",
       "    .dataframe thead th {\n",
       "        text-align: right;\n",
       "    }\n",
       "</style>\n",
       "<table border=\"1\" class=\"dataframe\">\n",
       "  <thead>\n",
       "    <tr style=\"text-align: right;\">\n",
       "      <th></th>\n",
       "      <th>0</th>\n",
       "      <th>1</th>\n",
       "    </tr>\n",
       "  </thead>\n",
       "  <tbody>\n",
       "    <tr>\n",
       "      <th>id</th>\n",
       "      <td>0.0</td>\n",
       "      <td>0.0</td>\n",
       "    </tr>\n",
       "    <tr>\n",
       "      <th>class</th>\n",
       "      <td>0.0</td>\n",
       "      <td>NaN</td>\n",
       "    </tr>\n",
       "    <tr>\n",
       "      <th>cap-diameter</th>\n",
       "      <td>4.0</td>\n",
       "      <td>7.0</td>\n",
       "    </tr>\n",
       "    <tr>\n",
       "      <th>cap-shape</th>\n",
       "      <td>40.0</td>\n",
       "      <td>31.0</td>\n",
       "    </tr>\n",
       "    <tr>\n",
       "      <th>cap-surface</th>\n",
       "      <td>671023.0</td>\n",
       "      <td>446904.0</td>\n",
       "    </tr>\n",
       "    <tr>\n",
       "      <th>cap-color</th>\n",
       "      <td>12.0</td>\n",
       "      <td>13.0</td>\n",
       "    </tr>\n",
       "    <tr>\n",
       "      <th>does-bruise-or-bleed</th>\n",
       "      <td>8.0</td>\n",
       "      <td>10.0</td>\n",
       "    </tr>\n",
       "    <tr>\n",
       "      <th>gill-attachment</th>\n",
       "      <td>523936.0</td>\n",
       "      <td>349821.0</td>\n",
       "    </tr>\n",
       "    <tr>\n",
       "      <th>gill-spacing</th>\n",
       "      <td>1258435.0</td>\n",
       "      <td>839595.0</td>\n",
       "    </tr>\n",
       "    <tr>\n",
       "      <th>gill-color</th>\n",
       "      <td>57.0</td>\n",
       "      <td>49.0</td>\n",
       "    </tr>\n",
       "    <tr>\n",
       "      <th>stem-height</th>\n",
       "      <td>0.0</td>\n",
       "      <td>1.0</td>\n",
       "    </tr>\n",
       "    <tr>\n",
       "      <th>stem-width</th>\n",
       "      <td>0.0</td>\n",
       "      <td>0.0</td>\n",
       "    </tr>\n",
       "    <tr>\n",
       "      <th>stem-color</th>\n",
       "      <td>38.0</td>\n",
       "      <td>21.0</td>\n",
       "    </tr>\n",
       "    <tr>\n",
       "      <th>has-ring</th>\n",
       "      <td>24.0</td>\n",
       "      <td>19.0</td>\n",
       "    </tr>\n",
       "    <tr>\n",
       "      <th>ring-type</th>\n",
       "      <td>128880.0</td>\n",
       "      <td>86195.0</td>\n",
       "    </tr>\n",
       "    <tr>\n",
       "      <th>habitat</th>\n",
       "      <td>45.0</td>\n",
       "      <td>25.0</td>\n",
       "    </tr>\n",
       "    <tr>\n",
       "      <th>season</th>\n",
       "      <td>0.0</td>\n",
       "      <td>0.0</td>\n",
       "    </tr>\n",
       "  </tbody>\n",
       "</table>\n",
       "</div>"
      ],
      "text/plain": [
       "                              0         1\n",
       "id                          0.0       0.0\n",
       "class                       0.0       NaN\n",
       "cap-diameter                4.0       7.0\n",
       "cap-shape                  40.0      31.0\n",
       "cap-surface            671023.0  446904.0\n",
       "cap-color                  12.0      13.0\n",
       "does-bruise-or-bleed        8.0      10.0\n",
       "gill-attachment        523936.0  349821.0\n",
       "gill-spacing          1258435.0  839595.0\n",
       "gill-color                 57.0      49.0\n",
       "stem-height                 0.0       1.0\n",
       "stem-width                  0.0       0.0\n",
       "stem-color                 38.0      21.0\n",
       "has-ring                   24.0      19.0\n",
       "ring-type              128880.0   86195.0\n",
       "habitat                    45.0      25.0\n",
       "season                      0.0       0.0"
      ]
     },
     "execution_count": 8,
     "metadata": {},
     "output_type": "execute_result"
    }
   ],
   "source": [
    "# Viewing number of NaN values\n",
    "pd.DataFrame([train.isna().sum(), test.isna().sum()]).T"
   ]
  },
  {
   "cell_type": "markdown",
   "id": "0b6e12f0",
   "metadata": {
    "papermill": {
     "duration": 0.011073,
     "end_time": "2024-08-29T10:12:01.203147",
     "exception": false,
     "start_time": "2024-08-29T10:12:01.192074",
     "status": "completed"
    },
    "tags": []
   },
   "source": [
    "## Removing Outliers"
   ]
  },
  {
   "cell_type": "code",
   "execution_count": 9,
   "id": "47f8f442",
   "metadata": {
    "execution": {
     "iopub.execute_input": "2024-08-29T10:12:01.226545Z",
     "iopub.status.busy": "2024-08-29T10:12:01.226213Z",
     "iopub.status.idle": "2024-08-29T10:12:03.238314Z",
     "shell.execute_reply": "2024-08-29T10:12:03.237298Z"
    },
    "papermill": {
     "duration": 2.026467,
     "end_time": "2024-08-29T10:12:03.240386",
     "exception": false,
     "start_time": "2024-08-29T10:12:01.213919",
     "status": "completed"
    },
    "tags": []
   },
   "outputs": [
    {
     "data": {
      "text/plain": [
       "id                      3116945\n",
       "class                         2\n",
       "cap-diameter               3913\n",
       "cap-shape                    74\n",
       "cap-surface                  83\n",
       "cap-color                    78\n",
       "does-bruise-or-bleed         26\n",
       "gill-attachment              78\n",
       "gill-spacing                 48\n",
       "gill-color                   63\n",
       "stem-height                2749\n",
       "stem-width                 5836\n",
       "stem-color                   59\n",
       "has-ring                     23\n",
       "ring-type                    40\n",
       "habitat                      52\n",
       "season                        4\n",
       "dtype: int64"
      ]
     },
     "execution_count": 9,
     "metadata": {},
     "output_type": "execute_result"
    }
   ],
   "source": [
    "# Number of categories in each column\n",
    "train.nunique()"
   ]
  },
  {
   "cell_type": "code",
   "execution_count": 10,
   "id": "0e3adb8a",
   "metadata": {
    "execution": {
     "iopub.execute_input": "2024-08-29T10:12:03.263917Z",
     "iopub.status.busy": "2024-08-29T10:12:03.263559Z",
     "iopub.status.idle": "2024-08-29T10:14:42.804399Z",
     "shell.execute_reply": "2024-08-29T10:14:42.803424Z"
    },
    "papermill": {
     "duration": 159.566775,
     "end_time": "2024-08-29T10:14:42.818458",
     "exception": false,
     "start_time": "2024-08-29T10:12:03.251683",
     "status": "completed"
    },
    "tags": []
   },
   "outputs": [
    {
     "data": {
      "text/plain": [
       "id                      3116945\n",
       "class                         2\n",
       "cap-diameter               3913\n",
       "cap-shape                     8\n",
       "cap-surface                  12\n",
       "cap-color                    13\n",
       "does-bruise-or-bleed          3\n",
       "gill-attachment               8\n",
       "gill-spacing                  4\n",
       "gill-color                   13\n",
       "stem-height                2749\n",
       "stem-width                 5836\n",
       "stem-color                   14\n",
       "has-ring                      3\n",
       "ring-type                     9\n",
       "habitat                       9\n",
       "season                        4\n",
       "dtype: int64"
      ]
     },
     "execution_count": 10,
     "metadata": {},
     "output_type": "execute_result"
    }
   ],
   "source": [
    "# all categorical columns\n",
    "categorical_cols = many_nan_cols + ['cap-shape', 'cap-color', 'does-bruise-or-bleed', 'gill-color', 'stem-color', 'has-ring', 'habitat', 'season']\n",
    "\n",
    "# replacing any categories with value_counts less than 100 with 'rare'\n",
    "# because those are very small number of records it won't affect the distribution of the data \n",
    "for c in categorical_cols:\n",
    "    col_count = train[c].value_counts()\n",
    "    rare_keys = col_count[col_count<100].index\n",
    "    train[c] = train[c].replace(rare_keys, 'rare')\n",
    "    \n",
    "    col_count = test[c].value_counts()\n",
    "    rare_keys = col_count[col_count<100].index\n",
    "    test[c] = test[c].replace(rare_keys, 'rare')\n",
    "\n",
    "# Number of categories in each column\n",
    "train.nunique()"
   ]
  },
  {
   "cell_type": "markdown",
   "id": "02183b02",
   "metadata": {
    "papermill": {
     "duration": 0.010879,
     "end_time": "2024-08-29T10:14:42.840821",
     "exception": false,
     "start_time": "2024-08-29T10:14:42.829942",
     "status": "completed"
    },
    "tags": []
   },
   "source": [
    "## Filling NaNs"
   ]
  },
  {
   "cell_type": "code",
   "execution_count": 11,
   "id": "60fb5927",
   "metadata": {
    "execution": {
     "iopub.execute_input": "2024-08-29T10:14:42.863975Z",
     "iopub.status.busy": "2024-08-29T10:14:42.863624Z",
     "iopub.status.idle": "2024-08-29T10:14:56.202418Z",
     "shell.execute_reply": "2024-08-29T10:14:56.201374Z"
    },
    "papermill": {
     "duration": 13.352824,
     "end_time": "2024-08-29T10:14:56.204538",
     "exception": false,
     "start_time": "2024-08-29T10:14:42.851714",
     "status": "completed"
    },
    "tags": []
   },
   "outputs": [
    {
     "data": {
      "text/plain": [
       "id                      0\n",
       "class                   0\n",
       "cap-diameter            0\n",
       "cap-shape               0\n",
       "cap-surface             0\n",
       "cap-color               0\n",
       "does-bruise-or-bleed    0\n",
       "gill-attachment         0\n",
       "gill-spacing            0\n",
       "gill-color              0\n",
       "stem-height             0\n",
       "stem-width              0\n",
       "stem-color              0\n",
       "has-ring                0\n",
       "ring-type               0\n",
       "habitat                 0\n",
       "season                  0\n",
       "dtype: int64"
      ]
     },
     "execution_count": 11,
     "metadata": {},
     "output_type": "execute_result"
    }
   ],
   "source": [
    "# filling NaN values with the mode because most of columns are categorical\n",
    "for c in train.columns:\n",
    "    train[c] = train[c].fillna(train[c].mode().values[0])\n",
    "train.isna().sum()"
   ]
  },
  {
   "cell_type": "code",
   "execution_count": 12,
   "id": "8c0ee39b",
   "metadata": {
    "execution": {
     "iopub.execute_input": "2024-08-29T10:14:56.229197Z",
     "iopub.status.busy": "2024-08-29T10:14:56.228891Z",
     "iopub.status.idle": "2024-08-29T10:15:04.340996Z",
     "shell.execute_reply": "2024-08-29T10:15:04.340020Z"
    },
    "papermill": {
     "duration": 8.126591,
     "end_time": "2024-08-29T10:15:04.343144",
     "exception": false,
     "start_time": "2024-08-29T10:14:56.216553",
     "status": "completed"
    },
    "tags": []
   },
   "outputs": [
    {
     "data": {
      "text/plain": [
       "id                      0\n",
       "cap-diameter            0\n",
       "cap-shape               0\n",
       "cap-surface             0\n",
       "cap-color               0\n",
       "does-bruise-or-bleed    0\n",
       "gill-attachment         0\n",
       "gill-spacing            0\n",
       "gill-color              0\n",
       "stem-height             0\n",
       "stem-width              0\n",
       "stem-color              0\n",
       "has-ring                0\n",
       "ring-type               0\n",
       "habitat                 0\n",
       "season                  0\n",
       "dtype: int64"
      ]
     },
     "execution_count": 12,
     "metadata": {},
     "output_type": "execute_result"
    }
   ],
   "source": [
    "# filling NaN values with the mode because most of columns are categorical\n",
    "for c in test.columns:\n",
    "    test[c] = test[c].fillna(test[c].mode().values[0])\n",
    "test.isna().sum()"
   ]
  },
  {
   "cell_type": "markdown",
   "id": "5bee36df",
   "metadata": {
    "papermill": {
     "duration": 0.011296,
     "end_time": "2024-08-29T10:15:04.366002",
     "exception": false,
     "start_time": "2024-08-29T10:15:04.354706",
     "status": "completed"
    },
    "tags": []
   },
   "source": [
    "# Model"
   ]
  },
  {
   "cell_type": "markdown",
   "id": "5c5740bd",
   "metadata": {
    "papermill": {
     "duration": 0.011116,
     "end_time": "2024-08-29T10:15:04.388589",
     "exception": false,
     "start_time": "2024-08-29T10:15:04.377473",
     "status": "completed"
    },
    "tags": []
   },
   "source": [
    "## Data Spliting"
   ]
  },
  {
   "cell_type": "code",
   "execution_count": 13,
   "id": "f44905ad",
   "metadata": {
    "execution": {
     "iopub.execute_input": "2024-08-29T10:15:04.412874Z",
     "iopub.status.busy": "2024-08-29T10:15:04.412112Z",
     "iopub.status.idle": "2024-08-29T10:15:04.946612Z",
     "shell.execute_reply": "2024-08-29T10:15:04.945685Z"
    },
    "papermill": {
     "duration": 0.548903,
     "end_time": "2024-08-29T10:15:04.948732",
     "exception": false,
     "start_time": "2024-08-29T10:15:04.399829",
     "status": "completed"
    },
    "tags": []
   },
   "outputs": [
    {
     "data": {
      "text/html": [
       "<div>\n",
       "<style scoped>\n",
       "    .dataframe tbody tr th:only-of-type {\n",
       "        vertical-align: middle;\n",
       "    }\n",
       "\n",
       "    .dataframe tbody tr th {\n",
       "        vertical-align: top;\n",
       "    }\n",
       "\n",
       "    .dataframe thead th {\n",
       "        text-align: right;\n",
       "    }\n",
       "</style>\n",
       "<table border=\"1\" class=\"dataframe\">\n",
       "  <thead>\n",
       "    <tr style=\"text-align: right;\">\n",
       "      <th></th>\n",
       "      <th>cap-diameter</th>\n",
       "      <th>cap-shape</th>\n",
       "      <th>cap-surface</th>\n",
       "      <th>cap-color</th>\n",
       "      <th>does-bruise-or-bleed</th>\n",
       "      <th>gill-attachment</th>\n",
       "      <th>gill-spacing</th>\n",
       "      <th>gill-color</th>\n",
       "      <th>stem-height</th>\n",
       "      <th>stem-width</th>\n",
       "      <th>stem-color</th>\n",
       "      <th>has-ring</th>\n",
       "      <th>ring-type</th>\n",
       "      <th>habitat</th>\n",
       "      <th>season</th>\n",
       "    </tr>\n",
       "  </thead>\n",
       "  <tbody>\n",
       "    <tr>\n",
       "      <th>0</th>\n",
       "      <td>8.80</td>\n",
       "      <td>f</td>\n",
       "      <td>s</td>\n",
       "      <td>u</td>\n",
       "      <td>f</td>\n",
       "      <td>a</td>\n",
       "      <td>c</td>\n",
       "      <td>w</td>\n",
       "      <td>4.51</td>\n",
       "      <td>15.39</td>\n",
       "      <td>w</td>\n",
       "      <td>f</td>\n",
       "      <td>f</td>\n",
       "      <td>d</td>\n",
       "      <td>a</td>\n",
       "    </tr>\n",
       "    <tr>\n",
       "      <th>1</th>\n",
       "      <td>4.51</td>\n",
       "      <td>x</td>\n",
       "      <td>h</td>\n",
       "      <td>o</td>\n",
       "      <td>f</td>\n",
       "      <td>a</td>\n",
       "      <td>c</td>\n",
       "      <td>n</td>\n",
       "      <td>4.79</td>\n",
       "      <td>6.48</td>\n",
       "      <td>o</td>\n",
       "      <td>t</td>\n",
       "      <td>z</td>\n",
       "      <td>d</td>\n",
       "      <td>w</td>\n",
       "    </tr>\n",
       "  </tbody>\n",
       "</table>\n",
       "</div>"
      ],
      "text/plain": [
       "   cap-diameter cap-shape cap-surface cap-color does-bruise-or-bleed  \\\n",
       "0          8.80         f           s         u                    f   \n",
       "1          4.51         x           h         o                    f   \n",
       "\n",
       "  gill-attachment gill-spacing gill-color  stem-height  stem-width stem-color  \\\n",
       "0               a            c          w         4.51       15.39          w   \n",
       "1               a            c          n         4.79        6.48          o   \n",
       "\n",
       "  has-ring ring-type habitat season  \n",
       "0        f         f       d      a  \n",
       "1        t         z       d      w  "
      ]
     },
     "execution_count": 13,
     "metadata": {},
     "output_type": "execute_result"
    }
   ],
   "source": [
    "# droping the target column and 'id' because it isn't a feature\n",
    "X = train.drop(['class', 'id'], axis=1)\n",
    "y = train['class']\n",
    "X.head(2)"
   ]
  },
  {
   "cell_type": "code",
   "execution_count": 14,
   "id": "8152811f",
   "metadata": {
    "execution": {
     "iopub.execute_input": "2024-08-29T10:15:04.973985Z",
     "iopub.status.busy": "2024-08-29T10:15:04.973273Z",
     "iopub.status.idle": "2024-08-29T10:15:07.983679Z",
     "shell.execute_reply": "2024-08-29T10:15:07.982697Z"
    },
    "papermill": {
     "duration": 3.025493,
     "end_time": "2024-08-29T10:15:07.986066",
     "exception": false,
     "start_time": "2024-08-29T10:15:04.960573",
     "status": "completed"
    },
    "tags": []
   },
   "outputs": [],
   "source": [
    "# using 70% of the data as training data and 30% as test data\n",
    "X_train, X_test, y_train, y_test = train_test_split(X, y, test_size=.3, random_state=4)"
   ]
  },
  {
   "cell_type": "markdown",
   "id": "9b6b80f4",
   "metadata": {
    "papermill": {
     "duration": 0.011531,
     "end_time": "2024-08-29T10:15:08.009868",
     "exception": false,
     "start_time": "2024-08-29T10:15:07.998337",
     "status": "completed"
    },
    "tags": []
   },
   "source": [
    "## Converting Categories to Intgers"
   ]
  },
  {
   "cell_type": "code",
   "execution_count": 15,
   "id": "c18c8268",
   "metadata": {
    "execution": {
     "iopub.execute_input": "2024-08-29T10:15:08.037995Z",
     "iopub.status.busy": "2024-08-29T10:15:08.037210Z",
     "iopub.status.idle": "2024-08-29T10:15:25.671733Z",
     "shell.execute_reply": "2024-08-29T10:15:25.670696Z"
    },
    "papermill": {
     "duration": 17.652275,
     "end_time": "2024-08-29T10:15:25.673783",
     "exception": false,
     "start_time": "2024-08-29T10:15:08.021508",
     "status": "completed"
    },
    "tags": []
   },
   "outputs": [
    {
     "data": {
      "text/html": [
       "<div>\n",
       "<style scoped>\n",
       "    .dataframe tbody tr th:only-of-type {\n",
       "        vertical-align: middle;\n",
       "    }\n",
       "\n",
       "    .dataframe tbody tr th {\n",
       "        vertical-align: top;\n",
       "    }\n",
       "\n",
       "    .dataframe thead th {\n",
       "        text-align: right;\n",
       "    }\n",
       "</style>\n",
       "<table border=\"1\" class=\"dataframe\">\n",
       "  <thead>\n",
       "    <tr style=\"text-align: right;\">\n",
       "      <th></th>\n",
       "      <th>id</th>\n",
       "      <th>cap-diameter</th>\n",
       "      <th>cap-shape</th>\n",
       "      <th>cap-surface</th>\n",
       "      <th>cap-color</th>\n",
       "      <th>does-bruise-or-bleed</th>\n",
       "      <th>gill-attachment</th>\n",
       "      <th>gill-spacing</th>\n",
       "      <th>gill-color</th>\n",
       "      <th>stem-height</th>\n",
       "      <th>stem-width</th>\n",
       "      <th>stem-color</th>\n",
       "      <th>has-ring</th>\n",
       "      <th>ring-type</th>\n",
       "      <th>habitat</th>\n",
       "      <th>season</th>\n",
       "    </tr>\n",
       "  </thead>\n",
       "  <tbody>\n",
       "    <tr>\n",
       "      <th>0</th>\n",
       "      <td>3116945</td>\n",
       "      <td>8.64</td>\n",
       "      <td>7.0</td>\n",
       "      <td>9.0</td>\n",
       "      <td>5.0</td>\n",
       "      <td>2.0</td>\n",
       "      <td>0.0</td>\n",
       "      <td>0.0</td>\n",
       "      <td>11.0</td>\n",
       "      <td>11.13</td>\n",
       "      <td>17.12</td>\n",
       "      <td>12.0</td>\n",
       "      <td>2.0</td>\n",
       "      <td>2.0</td>\n",
       "      <td>0.0</td>\n",
       "      <td>0.0</td>\n",
       "    </tr>\n",
       "    <tr>\n",
       "      <th>1</th>\n",
       "      <td>3116946</td>\n",
       "      <td>6.90</td>\n",
       "      <td>3.0</td>\n",
       "      <td>9.0</td>\n",
       "      <td>6.0</td>\n",
       "      <td>0.0</td>\n",
       "      <td>0.0</td>\n",
       "      <td>0.0</td>\n",
       "      <td>12.0</td>\n",
       "      <td>1.27</td>\n",
       "      <td>10.75</td>\n",
       "      <td>6.0</td>\n",
       "      <td>0.0</td>\n",
       "      <td>1.0</td>\n",
       "      <td>0.0</td>\n",
       "      <td>0.0</td>\n",
       "    </tr>\n",
       "  </tbody>\n",
       "</table>\n",
       "</div>"
      ],
      "text/plain": [
       "        id  cap-diameter  cap-shape  cap-surface  cap-color  \\\n",
       "0  3116945          8.64        7.0          9.0        5.0   \n",
       "1  3116946          6.90        3.0          9.0        6.0   \n",
       "\n",
       "   does-bruise-or-bleed  gill-attachment  gill-spacing  gill-color  \\\n",
       "0                   2.0              0.0           0.0        11.0   \n",
       "1                   0.0              0.0           0.0        12.0   \n",
       "\n",
       "   stem-height  stem-width  stem-color  has-ring  ring-type  habitat  season  \n",
       "0        11.13       17.12        12.0       2.0        2.0      0.0     0.0  \n",
       "1         1.27       10.75         6.0       0.0        1.0      0.0     0.0  "
      ]
     },
     "execution_count": 15,
     "metadata": {},
     "output_type": "execute_result"
    }
   ],
   "source": [
    "# prepare output data by converting categories into numbers\n",
    "oe = OrdinalEncoder()\n",
    "oe.fit(X_train[categorical_cols])\n",
    "X_train[categorical_cols] = oe.transform(X_train[categorical_cols])\n",
    "X_test[categorical_cols] = oe.transform(X_test[categorical_cols])\n",
    "test[categorical_cols] = oe.transform(test[categorical_cols])\n",
    "\n",
    "test.head(2)"
   ]
  },
  {
   "cell_type": "code",
   "execution_count": 16,
   "id": "c3364566",
   "metadata": {
    "execution": {
     "iopub.execute_input": "2024-08-29T10:15:25.699017Z",
     "iopub.status.busy": "2024-08-29T10:15:25.698712Z",
     "iopub.status.idle": "2024-08-29T10:15:26.406234Z",
     "shell.execute_reply": "2024-08-29T10:15:26.405275Z"
    },
    "papermill": {
     "duration": 0.722701,
     "end_time": "2024-08-29T10:15:26.408618",
     "exception": false,
     "start_time": "2024-08-29T10:15:25.685917",
     "status": "completed"
    },
    "tags": []
   },
   "outputs": [
    {
     "data": {
      "text/html": [
       "<div>\n",
       "<style scoped>\n",
       "    .dataframe tbody tr th:only-of-type {\n",
       "        vertical-align: middle;\n",
       "    }\n",
       "\n",
       "    .dataframe tbody tr th {\n",
       "        vertical-align: top;\n",
       "    }\n",
       "\n",
       "    .dataframe thead th {\n",
       "        text-align: right;\n",
       "    }\n",
       "</style>\n",
       "<table border=\"1\" class=\"dataframe\">\n",
       "  <thead>\n",
       "    <tr style=\"text-align: right;\">\n",
       "      <th></th>\n",
       "      <th>id</th>\n",
       "      <th>class</th>\n",
       "      <th>cap-diameter</th>\n",
       "      <th>cap-shape</th>\n",
       "      <th>cap-surface</th>\n",
       "      <th>cap-color</th>\n",
       "      <th>does-bruise-or-bleed</th>\n",
       "      <th>gill-attachment</th>\n",
       "      <th>gill-spacing</th>\n",
       "      <th>gill-color</th>\n",
       "      <th>stem-height</th>\n",
       "      <th>stem-width</th>\n",
       "      <th>stem-color</th>\n",
       "      <th>has-ring</th>\n",
       "      <th>ring-type</th>\n",
       "      <th>habitat</th>\n",
       "      <th>season</th>\n",
       "    </tr>\n",
       "  </thead>\n",
       "  <tbody>\n",
       "    <tr>\n",
       "      <th>0</th>\n",
       "      <td>0</td>\n",
       "      <td>e</td>\n",
       "      <td>8.80</td>\n",
       "      <td>f</td>\n",
       "      <td>s</td>\n",
       "      <td>u</td>\n",
       "      <td>f</td>\n",
       "      <td>a</td>\n",
       "      <td>c</td>\n",
       "      <td>w</td>\n",
       "      <td>4.51</td>\n",
       "      <td>15.39</td>\n",
       "      <td>w</td>\n",
       "      <td>f</td>\n",
       "      <td>f</td>\n",
       "      <td>d</td>\n",
       "      <td>a</td>\n",
       "    </tr>\n",
       "    <tr>\n",
       "      <th>1</th>\n",
       "      <td>1</td>\n",
       "      <td>p</td>\n",
       "      <td>4.51</td>\n",
       "      <td>x</td>\n",
       "      <td>h</td>\n",
       "      <td>o</td>\n",
       "      <td>f</td>\n",
       "      <td>a</td>\n",
       "      <td>c</td>\n",
       "      <td>n</td>\n",
       "      <td>4.79</td>\n",
       "      <td>6.48</td>\n",
       "      <td>o</td>\n",
       "      <td>t</td>\n",
       "      <td>z</td>\n",
       "      <td>d</td>\n",
       "      <td>w</td>\n",
       "    </tr>\n",
       "  </tbody>\n",
       "</table>\n",
       "</div>"
      ],
      "text/plain": [
       "   id class  cap-diameter cap-shape cap-surface cap-color  \\\n",
       "0   0     e          8.80         f           s         u   \n",
       "1   1     p          4.51         x           h         o   \n",
       "\n",
       "  does-bruise-or-bleed gill-attachment gill-spacing gill-color  stem-height  \\\n",
       "0                    f               a            c          w         4.51   \n",
       "1                    f               a            c          n         4.79   \n",
       "\n",
       "   stem-width stem-color has-ring ring-type habitat season  \n",
       "0       15.39          w        f         f       d      a  \n",
       "1        6.48          o        t         z       d      w  "
      ]
     },
     "execution_count": 16,
     "metadata": {},
     "output_type": "execute_result"
    }
   ],
   "source": [
    "# prepare input data by converting the letters in target column into numbers\n",
    "encoder = LabelEncoder()\n",
    "encoder.fit(y_train)\n",
    "y_train = encoder.transform(y_train)\n",
    "y_test = encoder.transform(y_test)\n",
    "\n",
    "train.head(2)"
   ]
  },
  {
   "cell_type": "markdown",
   "id": "39d274c8",
   "metadata": {
    "papermill": {
     "duration": 0.011794,
     "end_time": "2024-08-29T10:15:26.432993",
     "exception": false,
     "start_time": "2024-08-29T10:15:26.421199",
     "status": "completed"
    },
    "tags": []
   },
   "source": [
    "## Feature Selection"
   ]
  },
  {
   "cell_type": "code",
   "execution_count": 17,
   "id": "1deac5b2",
   "metadata": {
    "execution": {
     "iopub.execute_input": "2024-08-29T10:15:26.458064Z",
     "iopub.status.busy": "2024-08-29T10:15:26.457767Z",
     "iopub.status.idle": "2024-08-29T10:15:27.452085Z",
     "shell.execute_reply": "2024-08-29T10:15:27.451161Z"
    },
    "papermill": {
     "duration": 1.009427,
     "end_time": "2024-08-29T10:15:27.454246",
     "exception": false,
     "start_time": "2024-08-29T10:15:26.444819",
     "status": "completed"
    },
    "tags": []
   },
   "outputs": [
    {
     "name": "stdout",
     "output_type": "stream",
     "text": [
      "Feature 0: 20197.118520\n",
      "Feature 1: 10012.712954\n",
      "Feature 2: 50523.701865\n",
      "Feature 3: 39612.848786\n",
      "Feature 4: 32995.118490\n",
      "Feature 5: 8665.637682\n",
      "Feature 6: 5011.635136\n",
      "Feature 7: 20938.868347\n",
      "Feature 8: 22027.600984\n",
      "Feature 9: 8278.886174\n",
      "Feature 10: 4959.358699\n",
      "Feature 11: 10198.071977\n"
     ]
    },
    {
     "data": {
      "image/png": "[encoded data removed]",
      "text/plain": [
       "<Figure size 640x480 with 1 Axes>"
      ]
     },
     "metadata": {},
     "output_type": "display_data"
    }
   ],
   "source": [
    "# feature selection\n",
    "def select_features(X_train, y_train):\n",
    "    fs = SelectKBest(score_func=chi2, k='all')\n",
    "    fs.fit(X_train, y_train)\n",
    "    X_train_fs = fs.transform(X_train)\n",
    "    return X_train_fs, fs\n",
    "\n",
    "\n",
    "# applying feature selection on the training data\n",
    "X_train_fs, fs = select_features(X_train[categorical_cols], y_train)\n",
    "\n",
    "# what are scores for the features\n",
    "for i in range(len(fs.scores_)):\n",
    "    print('Feature %d: %f' % (i, fs.scores_[i]))\n",
    "    \n",
    "# plot the scores\n",
    "pyplot.bar([i for i in range(len(fs.scores_))], fs.scores_)\n",
    "pyplot.show()"
   ]
  },
  {
   "cell_type": "code",
   "execution_count": 18,
   "id": "6c84fa3e",
   "metadata": {
    "execution": {
     "iopub.execute_input": "2024-08-29T10:15:27.481610Z",
     "iopub.status.busy": "2024-08-29T10:15:27.481271Z",
     "iopub.status.idle": "2024-08-29T10:15:27.485319Z",
     "shell.execute_reply": "2024-08-29T10:15:27.484537Z"
    },
    "papermill": {
     "duration": 0.019644,
     "end_time": "2024-08-29T10:15:27.487125",
     "exception": false,
     "start_time": "2024-08-29T10:15:27.467481",
     "status": "completed"
    },
    "tags": []
   },
   "outputs": [],
   "source": [
    "# Deleting the lowest two features was giving high performance using random forest\n",
    "# However, using PyTorch neural network gives high performance while keeping those features\n",
    "# That's why I commented them here\n",
    "\n",
    "#X_train = X_train.drop(['cap-color', 'habitat'], axis=1)\n",
    "#X_test = X_test.drop(['cap-color', 'habitat'], axis=1)"
   ]
  },
  {
   "cell_type": "markdown",
   "id": "30f098c0",
   "metadata": {
    "papermill": {
     "duration": 0.012232,
     "end_time": "2024-08-29T10:15:27.511632",
     "exception": false,
     "start_time": "2024-08-29T10:15:27.499400",
     "status": "completed"
    },
    "tags": []
   },
   "source": [
    "## Preparing data for PyTorch"
   ]
  },
  {
   "cell_type": "code",
   "execution_count": 19,
   "id": "61128fae",
   "metadata": {
    "execution": {
     "iopub.execute_input": "2024-08-29T10:15:27.537290Z",
     "iopub.status.busy": "2024-08-29T10:15:27.536988Z",
     "iopub.status.idle": "2024-08-29T10:15:28.134777Z",
     "shell.execute_reply": "2024-08-29T10:15:28.133704Z"
    },
    "papermill": {
     "duration": 0.612824,
     "end_time": "2024-08-29T10:15:28.136705",
     "exception": false,
     "start_time": "2024-08-29T10:15:27.523881",
     "status": "completed"
    },
    "tags": []
   },
   "outputs": [
    {
     "data": {
      "text/plain": [
       "torch.Size([2181861, 15])"
      ]
     },
     "execution_count": 19,
     "metadata": {},
     "output_type": "execute_result"
    }
   ],
   "source": [
    "# using gpu if available\n",
    "device = torch.device(\"cuda\" if torch.cuda.is_available() else \"cpu\")\n",
    "\n",
    "# Convert your training and test data to tensors and move them to the correct device\n",
    "X_train = torch.tensor(X_train.values, dtype=torch.float32).to(device)\n",
    "X_test = torch.tensor(X_test.values, dtype=torch.float32).to(device)\n",
    "y_train = torch.tensor(y_train, dtype=torch.float32).reshape(-1, 1).to(device)\n",
    "y_test = torch.tensor(y_test, dtype=torch.float32).reshape(-1, 1).to(device)\n",
    "\n",
    "# size of training data\n",
    "X_train.shape"
   ]
  },
  {
   "cell_type": "markdown",
   "id": "3309435f",
   "metadata": {
    "papermill": {
     "duration": 0.012309,
     "end_time": "2024-08-29T10:15:28.161851",
     "exception": false,
     "start_time": "2024-08-29T10:15:28.149542",
     "status": "completed"
    },
    "tags": []
   },
   "source": [
    "## Model Building"
   ]
  },
  {
   "cell_type": "code",
   "execution_count": 20,
   "id": "fa61d3ed",
   "metadata": {
    "execution": {
     "iopub.execute_input": "2024-08-29T10:15:28.188891Z",
     "iopub.status.busy": "2024-08-29T10:15:28.188183Z",
     "iopub.status.idle": "2024-08-29T10:15:28.204101Z",
     "shell.execute_reply": "2024-08-29T10:15:28.203237Z"
    },
    "papermill": {
     "duration": 0.031596,
     "end_time": "2024-08-29T10:15:28.205930",
     "exception": false,
     "start_time": "2024-08-29T10:15:28.174334",
     "status": "completed"
    },
    "tags": []
   },
   "outputs": [],
   "source": [
    "# constructing the neural network architecture\n",
    "\n",
    "# Notes:\n",
    "# Deep NN gave me higher performance than shallow ones\n",
    "# dropout gave low performance when it was 0.5 and somewhat better performance using 0.2\n",
    "# I prefered not to use dropout at all you can add it using the following line after the BatchNorm1d\n",
    "# `self.layers.append(nn.Dropout(dropout_rate))`\n",
    "class Deep(nn.Module):\n",
    "    def __init__(self, input_size=X_train.shape[1], hidden_size=128, num_layers=5, dropout_rate=0.2):\n",
    "        super(Deep, self).__init__()\n",
    "        \n",
    "        # Create a list of layers\n",
    "        self.layers = nn.ModuleList()\n",
    "        \n",
    "        # Input layer\n",
    "        self.layers.append(nn.Linear(input_size, hidden_size*2))\n",
    "        self.layers.append(nn.ReLU())\n",
    "        self.layers.append(nn.BatchNorm1d(hidden_size*2))\n",
    "        \n",
    "        # Wide hidden layer\n",
    "        self.layers.append(nn.Linear(hidden_size*2, hidden_size))\n",
    "        self.layers.append(nn.ReLU())\n",
    "        self.layers.append(nn.BatchNorm1d(hidden_size))\n",
    "        \n",
    "        # Hidden layers\n",
    "        for _ in range(num_layers - 3):\n",
    "            self.layers.append(nn.Linear(hidden_size, hidden_size))\n",
    "            self.layers.append(nn.ReLU())\n",
    "            self.layers.append(nn.BatchNorm1d(hidden_size))\n",
    "        \n",
    "        hiddent_last = int(hidden_size/2)\n",
    "        \n",
    "        # Smaller Hidden layer\n",
    "        self.layers.append(nn.Linear(hidden_size, hiddent_last))\n",
    "        self.layers.append(nn.ReLU())\n",
    "        self.layers.append(nn.BatchNorm1d(hiddent_last))\n",
    "        \n",
    "        # Output layer\n",
    "        self.output = nn.Linear(hiddent_last, 1)\n",
    "        \n",
    "        # Apply Xavier initialization\n",
    "        self._initialize_weights()\n",
    "\n",
    "    def _initialize_weights(self):\n",
    "        for layer in self.layers:\n",
    "            if isinstance(layer, nn.Linear):\n",
    "                nn.init.xavier_uniform_(layer.weight)\n",
    "        nn.init.xavier_uniform_(self.output.weight)\n",
    "\n",
    "    def forward(self, x):\n",
    "        for layer in self.layers:\n",
    "            x = layer(x)\n",
    "        x = torch.sigmoid(self.output(x))\n",
    "        return x"
   ]
  },
  {
   "cell_type": "code",
   "execution_count": 21,
   "id": "3bf80b71",
   "metadata": {
    "execution": {
     "iopub.execute_input": "2024-08-29T10:15:28.232557Z",
     "iopub.status.busy": "2024-08-29T10:15:28.231945Z",
     "iopub.status.idle": "2024-08-29T10:15:28.243774Z",
     "shell.execute_reply": "2024-08-29T10:15:28.242966Z"
    },
    "papermill": {
     "duration": 0.027056,
     "end_time": "2024-08-29T10:15:28.245564",
     "exception": false,
     "start_time": "2024-08-29T10:15:28.218508",
     "status": "completed"
    },
    "tags": []
   },
   "outputs": [],
   "source": [
    "def model_train(model, X_train, y_train, X_val, y_val):\n",
    "    # Defining the loss function and optimizer\n",
    "    loss_fn = nn.BCELoss()  # Binary cross-entropy\n",
    "    optimizer = optim.Adam(model.parameters(), lr=0.0001)\n",
    "\n",
    "    n_epochs = 250  # Number of epochs to run\n",
    "    batch_size = 1024*10  # Size of each batch\n",
    "    batch_start = torch.arange(0, len(X_train), batch_size)\n",
    "\n",
    "    # Hold the best model\n",
    "    best_acc = -np.inf  # Initialize to negative infinity\n",
    "    best_weights = None\n",
    "\n",
    "    for epoch in range(n_epochs):\n",
    "        model.train()\n",
    "        with tqdm.tqdm(batch_start, unit=\"batch\", mininterval=0, disable=True) as bar:\n",
    "            bar.set_description(f\"Epoch {epoch}\")\n",
    "            for start in bar:\n",
    "                # Take a batch\n",
    "                X_batch = X_train[start:start+batch_size].to(device)\n",
    "                y_batch = y_train[start:start+batch_size].to(device)\n",
    "                # Forward pass\n",
    "                y_pred = model(X_batch)\n",
    "                loss = loss_fn(y_pred, y_batch)\n",
    "                # Backward pass\n",
    "                optimizer.zero_grad()\n",
    "                loss.backward()\n",
    "                # Update weights\n",
    "                optimizer.step()\n",
    "                # Print progress\n",
    "                acc = (y_pred.round() == y_batch).float().mean()\n",
    "                bar.set_postfix(\n",
    "                    loss=float(loss),\n",
    "                    acc=float(acc)\n",
    "                )\n",
    "        # Evaluate accuracy at the end of each epoch\n",
    "        model.eval()\n",
    "        y_pred = model(X_val.to(device))\n",
    "        acc = (y_pred.round() == y_val.to(device)).float().mean()\n",
    "        acc = float(acc)\n",
    "        if acc > best_acc:\n",
    "            best_acc = acc\n",
    "            best_weights = copy.deepcopy(model.state_dict())\n",
    "    # Restore the best model and return the best accuracy\n",
    "    model.load_state_dict(best_weights)\n",
    "    return best_acc"
   ]
  },
  {
   "cell_type": "code",
   "execution_count": 22,
   "id": "a515ffb2",
   "metadata": {
    "execution": {
     "iopub.execute_input": "2024-08-29T10:15:28.272697Z",
     "iopub.status.busy": "2024-08-29T10:15:28.272113Z",
     "iopub.status.idle": "2024-08-29T10:29:59.064430Z",
     "shell.execute_reply": "2024-08-29T10:29:59.063274Z"
    },
    "papermill": {
     "duration": 870.823005,
     "end_time": "2024-08-29T10:29:59.081409",
     "exception": false,
     "start_time": "2024-08-29T10:15:28.258404",
     "status": "completed"
    },
    "tags": []
   },
   "outputs": [
    {
     "name": "stdout",
     "output_type": "stream",
     "text": [
      "Accuracy (deep): 0.9881\n",
      "Accuracy (deep): 0.9879\n",
      "Accuracy (deep): 0.9881\n",
      "Accuracy (deep): 0.9880\n",
      "Accuracy (deep): 0.9880\n",
      "Model accuracy: 98.8017% (+/- 0.0077%)\n"
     ]
    }
   ],
   "source": [
    "# Define 5-fold cross-validation test harness\n",
    "kfold = StratifiedKFold(n_splits=5, shuffle=True)\n",
    "cv_scores_wide = []\n",
    "\n",
    "for train_idx, test_idx in kfold.split(X_train.cpu(), y_train.cpu()):  # Note: sklearn needs CPU-based numpy arrays\n",
    "    # Create model, train, and get accuracy\n",
    "    model = Deep().to(device)\n",
    "    acc = model_train(model, X_train[train_idx], y_train[train_idx], X_train[test_idx], y_train[test_idx])\n",
    "    print(\"Accuracy (deep): %.4f\" % acc)\n",
    "    cv_scores_wide.append(acc)\n",
    "\n",
    "# Evaluate the model\n",
    "acc = np.mean(cv_scores_wide)\n",
    "std = np.std(cv_scores_wide)\n",
    "print(\"Model accuracy: %.4f%% (+/- %.4f%%)\" % (acc * 100, std * 100))"
   ]
  },
  {
   "cell_type": "markdown",
   "id": "70aac114",
   "metadata": {
    "papermill": {
     "duration": 0.012781,
     "end_time": "2024-08-29T10:29:59.107551",
     "exception": false,
     "start_time": "2024-08-29T10:29:59.094770",
     "status": "completed"
    },
    "tags": []
   },
   "source": [
    "## Performance Testing"
   ]
  },
  {
   "cell_type": "code",
   "execution_count": 23,
   "id": "b06e2bba",
   "metadata": {
    "execution": {
     "iopub.execute_input": "2024-08-29T10:29:59.135006Z",
     "iopub.status.busy": "2024-08-29T10:29:59.134448Z",
     "iopub.status.idle": "2024-08-29T10:29:59.331696Z",
     "shell.execute_reply": "2024-08-29T10:29:59.330684Z"
    },
    "papermill": {
     "duration": 0.213525,
     "end_time": "2024-08-29T10:29:59.333875",
     "exception": false,
     "start_time": "2024-08-29T10:29:59.120350",
     "status": "completed"
    },
    "tags": []
   },
   "outputs": [
    {
     "name": "stdout",
     "output_type": "stream",
     "text": [
      "Accuracy Score: 98.800 %\n",
      "Matthews Correlation Coefficient (MCC): 0.97580\n"
     ]
    }
   ],
   "source": [
    "threshold = 0.5\n",
    "y_pred = model(X_test)\n",
    "y_pred = np.array((y_pred > threshold).float().cpu()) # 0.0 or 1.0\n",
    "\n",
    "print(f\"Accuracy Score: {accuracy_score(y_test.cpu(), y_pred)*100:.3f} %\")\n",
    "print(f\"Matthews Correlation Coefficient (MCC): {matthews_corrcoef(y_test.cpu(), y_pred):.5f}\")"
   ]
  },
  {
   "cell_type": "markdown",
   "id": "ccb1b354",
   "metadata": {
    "papermill": {
     "duration": 0.012911,
     "end_time": "2024-08-29T10:29:59.360777",
     "exception": false,
     "start_time": "2024-08-29T10:29:59.347866",
     "status": "completed"
    },
    "tags": []
   },
   "source": [
    "## Submission File"
   ]
  },
  {
   "cell_type": "code",
   "execution_count": 24,
   "id": "26de0510",
   "metadata": {
    "execution": {
     "iopub.execute_input": "2024-08-29T10:29:59.388718Z",
     "iopub.status.busy": "2024-08-29T10:29:59.387959Z",
     "iopub.status.idle": "2024-08-29T10:30:00.006434Z",
     "shell.execute_reply": "2024-08-29T10:30:00.005618Z"
    },
    "papermill": {
     "duration": 0.634839,
     "end_time": "2024-08-29T10:30:00.008761",
     "exception": false,
     "start_time": "2024-08-29T10:29:59.373922",
     "status": "completed"
    },
    "tags": []
   },
   "outputs": [],
   "source": [
    "# preparing the test data and converting it into a tensor\n",
    "X_real = test.drop(['id'], axis=1)\n",
    "X_real = torch.tensor(X_real.values, dtype=torch.float32).to(device)\n",
    "\n",
    "# predicting the output of test data\n",
    "y_real = model(X_real)\n",
    "\n",
    "# converting the prediction into 0s and 1s\n",
    "y_real = np.array((y_real > threshold).int().cpu())"
   ]
  },
  {
   "cell_type": "code",
   "execution_count": 25,
   "id": "19f88230",
   "metadata": {
    "execution": {
     "iopub.execute_input": "2024-08-29T10:30:00.036812Z",
     "iopub.status.busy": "2024-08-29T10:30:00.036477Z",
     "iopub.status.idle": "2024-08-29T10:30:02.348247Z",
     "shell.execute_reply": "2024-08-29T10:30:02.347163Z"
    },
    "papermill": {
     "duration": 2.328233,
     "end_time": "2024-08-29T10:30:02.350625",
     "exception": false,
     "start_time": "2024-08-29T10:30:00.022392",
     "status": "completed"
    },
    "tags": []
   },
   "outputs": [
    {
     "data": {
      "text/html": [
       "<div>\n",
       "<style scoped>\n",
       "    .dataframe tbody tr th:only-of-type {\n",
       "        vertical-align: middle;\n",
       "    }\n",
       "\n",
       "    .dataframe tbody tr th {\n",
       "        vertical-align: top;\n",
       "    }\n",
       "\n",
       "    .dataframe thead th {\n",
       "        text-align: right;\n",
       "    }\n",
       "</style>\n",
       "<table border=\"1\" class=\"dataframe\">\n",
       "  <thead>\n",
       "    <tr style=\"text-align: right;\">\n",
       "      <th></th>\n",
       "      <th>id</th>\n",
       "      <th>class</th>\n",
       "    </tr>\n",
       "  </thead>\n",
       "  <tbody>\n",
       "    <tr>\n",
       "      <th>0</th>\n",
       "      <td>3116945</td>\n",
       "      <td>e</td>\n",
       "    </tr>\n",
       "    <tr>\n",
       "      <th>1</th>\n",
       "      <td>3116946</td>\n",
       "      <td>p</td>\n",
       "    </tr>\n",
       "  </tbody>\n",
       "</table>\n",
       "</div>"
      ],
      "text/plain": [
       "        id class\n",
       "0  3116945     e\n",
       "1  3116946     p"
      ]
     },
     "execution_count": 25,
     "metadata": {},
     "output_type": "execute_result"
    }
   ],
   "source": [
    "# getting the prepared submission file to edit on it\n",
    "submission = pd.read_csv(\"/kaggle/input/playground-series-s4e8/sample_submission.csv\")\n",
    "\n",
    "# replacing the results with the new one\n",
    "submission['class'] = y_real\n",
    "\n",
    "# converting the 0s and 1s into e-or-p class\n",
    "submission['class'] = submission['class'].astype('str')\n",
    "submission.loc[(submission['class'] == '0'), 'class'] = 'e'\n",
    "submission.loc[(submission['class'] == '1'), 'class'] = 'p'\n",
    "\n",
    "submission.head(2)"
   ]
  },
  {
   "cell_type": "code",
   "execution_count": 26,
   "id": "908f7ccc",
   "metadata": {
    "execution": {
     "iopub.execute_input": "2024-08-29T10:30:02.379977Z",
     "iopub.status.busy": "2024-08-29T10:30:02.379611Z",
     "iopub.status.idle": "2024-08-29T10:30:04.793422Z",
     "shell.execute_reply": "2024-08-29T10:30:04.792676Z"
    },
    "papermill": {
     "duration": 2.43042,
     "end_time": "2024-08-29T10:30:04.795741",
     "exception": false,
     "start_time": "2024-08-29T10:30:02.365321",
     "status": "completed"
    },
    "tags": []
   },
   "outputs": [],
   "source": [
    "# Saving the submission file without index\n",
    "submission.to_csv('/kaggle/working/submission.csv',index=False)"
   ]
  }
 ],
 "metadata": {
  "kaggle": {
   "accelerator": "nvidiaTeslaT4",
   "dataSources": [
    {
     "databundleVersionId": 9045607,
     "sourceId": 76727,
     "sourceType": "competition"
    }
   ],
   "dockerImageVersionId": 30762,
   "isGpuEnabled": true,
   "isInternetEnabled": true,
   "language": "python",
   "sourceType": "notebook"
  },
  "kernelspec": {
   "display_name": "Python 3",
   "language": "python",
   "name": "python3"
  },
  "language_info": {
   "codemirror_mode": {
    "name": "ipython",
    "version": 3
   },
   "file_extension": ".py",
   "mimetype": "text/x-python",
   "name": "python",
   "nbconvert_exporter": "python",
   "pygments_lexer": "ipython3",
   "version": "3.10.14"
  },
  "papermill": {
   "default_parameters": {},
   "duration": 1128.70435,
   "end_time": "2024-08-29T10:30:07.576106",
   "environment_variables": {},
   "exception": null,
   "input_path": "__notebook__.ipynb",
   "output_path": "__notebook__.ipynb",
   "parameters": {},
   "start_time": "2024-08-29T10:11:18.871756",
   "version": "2.6.0"
  }
 },
 "nbformat": 4,
 "nbformat_minor": 5
}
